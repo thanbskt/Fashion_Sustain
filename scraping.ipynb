{
  "cells": [
    {
      "cell_type": "markdown",
      "metadata": {
        "id": "view-in-github",
        "colab_type": "text"
      },
      "source": [
        "<a href=\"https://colab.research.google.com/github/thanbskt/Fashion_Sustain/blob/main/scraping.ipynb\" target=\"_parent\"><img src=\"https://colab.research.google.com/assets/colab-badge.svg\" alt=\"Open In Colab\"/></a>"
      ]
    },
    {
      "cell_type": "markdown",
      "source": [
        "#Scraping from goodonyou"
      ],
      "metadata": {
        "id": "iw1-VgjxDvcC"
      }
    },
    {
      "cell_type": "code",
      "execution_count": 2,
      "metadata": {
        "colab": {
          "base_uri": "https://localhost:8080/"
        },
        "id": "g3JZSyfB09Fc",
        "outputId": "ded73e4f-e5aa-460b-84a0-39ffcba55131"
      },
      "outputs": [
        {
          "output_type": "stream",
          "name": "stdout",
          "text": [
            "Looking in indexes: https://pypi.org/simple, https://us-python.pkg.dev/colab-wheels/public/simple/\n",
            "Requirement already satisfied: beautifulsoup4 in /usr/local/lib/python3.9/dist-packages (4.9.3)\n",
            "Requirement already satisfied: soupsieve>1.2 in /usr/local/lib/python3.9/dist-packages (from beautifulsoup4) (2.4)\n"
          ]
        }
      ],
      "source": [
        "pip install beautifulsoup4"
      ]
    },
    {
      "cell_type": "code",
      "execution_count": null,
      "metadata": {
        "colab": {
          "background_save": true
        },
        "id": "JczhV9Nn3arU"
      },
      "outputs": [],
      "source": [
        "from bs4 import BeautifulSoup\n",
        "import requests\n",
        "\n",
        "url = 'https://directory.goodonyou.eco/brand/infantium-victoria'\n",
        "response = requests.get(url)\n",
        "\n",
        "soup = BeautifulSoup(response.text, \"html.parser\")\n",
        "print\n",
        "h6_elements = soup.find_all('h6')\n",
        "for element in h6_elements:\n",
        "    if element.get('class') == ['StyledHeading-sc-1rdh4aw-0', 'jNSEQB', 'id__OverallRating-sc-12z6g46-7', 'cjSjNJ']:\n",
        "        overall_rating = element.text\n",
        "        overall_rating = overall_rating.split(\":\")[1].strip()\n",
        "        print(\"The overall rating is: \" + overall_rating)"
      ]
    },
    {
      "cell_type": "code",
      "execution_count": null,
      "metadata": {
        "colab": {
          "base_uri": "https://localhost:8080/"
        },
        "id": "1Ap6_I3lFMfp",
        "outputId": "0443a917-a574-4ee4-a869-2c556fd5f83c"
      },
      "outputs": [
        {
          "name": "stderr",
          "output_type": "stream",
          "text": [
            "DEBUG:urllib3.connectionpool:Starting new HTTPS connection (1): directory.goodonyou.eco:443\n",
            "2023-03-08 16:36:28 [urllib3.connectionpool] DEBUG: Starting new HTTPS connection (1): directory.goodonyou.eco:443\n",
            "DEBUG:urllib3.connectionpool:https://directory.goodonyou.eco:443 \"GET /brand/infantium-victoria HTTP/1.1\" 200 None\n",
            "2023-03-08 16:36:28 [urllib3.connectionpool] DEBUG: https://directory.goodonyou.eco:443 \"GET /brand/infantium-victoria HTTP/1.1\" 200 None\n"
          ]
        },
        {
          "name": "stdout",
          "output_type": "stream",
          "text": [
            "Great\n"
          ]
        }
      ],
      "source": [
        "from bs4 import BeautifulSoup\n",
        "import requests\n",
        "\n",
        "# Get the HTML of the page\n",
        "page = requests.get(\"https://directory.goodonyou.eco/brand/infantium-victoria\")\n",
        "soup = BeautifulSoup(page.content, 'html.parser')\n",
        "\n",
        "# Locate the elements using xpath\n",
        "xpath = '<h6 class=\"StyledHeading-sc-1rdh4aw-0 jNSEQB id__OverallRating-sc-12z6g46-7 cjSjNJ\"'\n",
        "\n",
        "# Find the text after 'Overall rating:'\n",
        "overall_rating = soup.find('h6', attrs={'class': 'StyledHeading-sc-1rdh4aw-0 jNSEQB id__OverallRating-sc-12z6g46-7 cjSjNJ'}).text.split('Overall rating: ')[1]\n",
        "\n",
        "# Print the result and save it in a variable\n",
        "print(overall_rating)\n",
        "rating = overall_rating"
      ]
    },
    {
      "cell_type": "markdown",
      "source": [
        "\n",
        "#scripe and save top category"
      ],
      "metadata": {
        "id": "jOi1HVfrKIOV"
      }
    },
    {
      "cell_type": "code",
      "source": [
        "from bs4 import BeautifulSoup\n",
        "import requests\n",
        "\n",
        "# Get the HTML of the page\n",
        "page = requests.get(\"https://directory.goodonyou.eco/categories/tops\")\n",
        "soup = BeautifulSoup(page.content, 'html.parser')"
      ],
      "metadata": {
        "id": "wp9JN22TD2oK"
      },
      "execution_count": 1,
      "outputs": []
    },
    {
      "cell_type": "code",
      "source": [
        "data = soup.find_all('div',class_=\"ResponsiveGrid__GridItem-sc-1sitd6c-1 cYgZZO\")"
      ],
      "metadata": {
        "id": "x3-NmBXKENCr"
      },
      "execution_count": 2,
      "outputs": []
    },
    {
      "cell_type": "code",
      "source": [
        "test2 = data[0].find('div',class_=\"StyledBox-sc-13pk1d4-0 gttMNt\").text"
      ],
      "metadata": {
        "id": "PvjpuD6nNLHH"
      },
      "execution_count": 146,
      "outputs": []
    },
    {
      "cell_type": "code",
      "source": [
        "name =[]\n",
        "rated = []\n",
        "price = []\n",
        "for i in data:\n",
        "  information = i.find('div',class_=\"StyledBox-sc-13pk1d4-0 gttMNt\").text\n",
        "  information = information.replace('Price : ',\",\").replace('Rated : ',\",\").split(',')\n",
        "  name.append(information[0].strip())\n",
        "  price.append(information[1].strip())\n",
        "  rated.append(information[2].strip())"
      ],
      "metadata": {
        "id": "dY24C1V9QFN-"
      },
      "execution_count": 3,
      "outputs": []
    },
    {
      "cell_type": "code",
      "source": [
        "import pandas as pd\n",
        "df = pd.DataFrame(list(zip(name, price,rated)),\n",
        "               columns =['Name', 'Price','Rated'])"
      ],
      "metadata": {
        "id": "izwcFBdVQFGE"
      },
      "execution_count": 6,
      "outputs": []
    },
    {
      "cell_type": "code",
      "source": [
        "df"
      ],
      "metadata": {
        "id": "68XiLYdMNc4A"
      },
      "execution_count": null,
      "outputs": []
    },
    {
      "cell_type": "code",
      "source": [
        "df.to_excel(\"top_category.xlsx\")"
      ],
      "metadata": {
        "id": "FdLL-RNROQla"
      },
      "execution_count": 9,
      "outputs": []
    },
    {
      "cell_type": "code",
      "source": [],
      "metadata": {
        "id": "4WpipYGiPXA-"
      },
      "execution_count": 149,
      "outputs": []
    },
    {
      "cell_type": "markdown",
      "source": [
        "#scrapping detailed data from every brand"
      ],
      "metadata": {
        "id": "FP5bLhI4S3nR"
      }
    },
    {
      "cell_type": "code",
      "source": [
        "from bs4 import BeautifulSoup\n",
        "import requests\n",
        "\n",
        "# Get the HTML of the page\n",
        "page = requests.get(\"https://directory.goodonyou.eco/brand/thunderpants-nz\")\n",
        "soup = BeautifulSoup(page.content, 'html.parser')"
      ],
      "metadata": {
        "id": "bMDSh2vzTM9W"
      },
      "execution_count": 153,
      "outputs": []
    },
    {
      "cell_type": "code",
      "source": [
        "location = soup.find('div',class_='StyledBox-sc-13pk1d4-0 iYntKu BrandRating__BrandCardDescription-sc-1t62l5y-0 cytorD').text.rsplit('location: ',1)[1]"
      ],
      "metadata": {
        "id": "37qWvnNYywEw"
      },
      "execution_count": 297,
      "outputs": []
    },
    {
      "cell_type": "code",
      "source": [
        "sust_data = soup.find('div',class_=\"id__ContainerRatings-sc-12z6g46-8 ifetSF\")"
      ],
      "metadata": {
        "id": "Dj_oORAIz_Qt"
      },
      "execution_count": 308,
      "outputs": []
    },
    {
      "cell_type": "code",
      "source": [
        "sust_data = sust_data.text\n",
        "sust_data = sust_data.replace('Planet','Planet ')\n",
        "sust_data = sust_data.replace('People',',People ')\n",
        "sust_data = sust_data.replace('Animals',',Animals ')\n",
        "sust_data = sust_data.split(\",\")"
      ],
      "metadata": {
        "id": "mCk_ITYoz_OD"
      },
      "execution_count": 309,
      "outputs": []
    },
    {
      "cell_type": "code",
      "source": [
        "sust_data"
      ],
      "metadata": {
        "colab": {
          "base_uri": "https://localhost:8080/"
        },
        "id": "bqWi7Awcz_D0",
        "outputId": "c9ca91b3-d434-4ad6-9446-f6d3d01570ee"
      },
      "execution_count": 310,
      "outputs": [
        {
          "output_type": "execute_result",
          "data": {
            "text/plain": [
              "['Planet 5 out of 5', 'People 5 out of 5', 'Animals Not applicable']"
            ]
          },
          "metadata": {},
          "execution_count": 310
        }
      ]
    },
    {
      "cell_type": "code",
      "source": [
        "where_to_buy = soup.find('button',class_=\"StyledButton-sc-323bzc-0 caRZpT BrandSummary__ButtonBuy-sc-fufkn8-2 eJOcoR\").find('a')['href']"
      ],
      "metadata": {
        "id": "Zz6Rs-88TMzp"
      },
      "execution_count": 172,
      "outputs": []
    },
    {
      "cell_type": "code",
      "source": [
        "more_info = soup.find_all('div',class_='BrandSummary__ContainerDetail-sc-fufkn8-4 zCTlT')"
      ],
      "metadata": {
        "id": "fpN4q0swb0I5"
      },
      "execution_count": 221,
      "outputs": []
    },
    {
      "cell_type": "code",
      "source": [
        "range = more_info[0].text.replace('RANGE',\"\")"
      ],
      "metadata": {
        "id": "GnfGUWg5nikU"
      },
      "execution_count": 222,
      "outputs": []
    },
    {
      "cell_type": "code",
      "source": [
        "cat_data = more_info[1].find('div',class_=\"StyledBox-sc-13pk1d4-0 iYntKu BrandSummary__CategoryList-sc-fufkn8-9 kRztMB\")\n",
        "categories = []\n",
        "cat_data.find_all('a')\n",
        "\n",
        "for i in cat_data.find_all('a'):\n",
        "  categories.append(i.text)\n"
      ],
      "metadata": {
        "id": "AyadjzUTeMQR"
      },
      "execution_count": 234,
      "outputs": []
    },
    {
      "cell_type": "code",
      "source": [
        " shipping = more_info[2].text.replace('SHIPPING','')"
      ],
      "metadata": {
        "id": "xGBga1izXMCr"
      },
      "execution_count": 232,
      "outputs": []
    },
    {
      "cell_type": "code",
      "source": [],
      "metadata": {
        "id": "VtZgjU6JvFm_"
      },
      "execution_count": null,
      "outputs": []
    },
    {
      "cell_type": "code",
      "source": [
        "values = soup.find_all('div',class_='StyledBox-sc-13pk1d4-0 iYntKu BrandSummary__IconBoxValues-sc-fufkn8-6 cThSMm')"
      ],
      "metadata": {
        "id": "br64gQTqXKfY"
      },
      "execution_count": 157,
      "outputs": []
    },
    {
      "cell_type": "code",
      "source": [
        "boxes = more_info[3].find_all('div',{'class':'StyledBox-sc-13pk1d4-0 iYntKu BrandSummary__IconBoxValues-sc-fufkn8-6 cThSMm'})"
      ],
      "metadata": {
        "id": "TATgdX-xv0Wv"
      },
      "execution_count": 240,
      "outputs": []
    },
    {
      "cell_type": "code",
      "source": [
        "Cert_data = more_info[4].find_all('div',{'class':'StyledBox-sc-13pk1d4-0 hgdohb'})\n",
        "Certifications =[]\n",
        "for i in Cert_data:\n",
        "  Certifications.append(i.text)\n",
        "\n"
      ],
      "metadata": {
        "id": "cmhaHxobaiL-"
      },
      "execution_count": 259,
      "outputs": []
    },
    {
      "cell_type": "code",
      "source": [],
      "metadata": {
        "id": "WGNxnZvpjr74"
      },
      "execution_count": null,
      "outputs": []
    },
    {
      "cell_type": "code",
      "source": [],
      "metadata": {
        "id": "10VmyeXNjruS"
      },
      "execution_count": null,
      "outputs": []
    },
    {
      "cell_type": "code",
      "source": [],
      "metadata": {
        "id": "K8GPFCamjrK5"
      },
      "execution_count": null,
      "outputs": []
    }
  ],
  "metadata": {
    "colab": {
      "provenance": [],
      "authorship_tag": "ABX9TyOR9TV5yAhBtO9b/zy0FpOY",
      "include_colab_link": true
    },
    "kernelspec": {
      "display_name": "Python 3",
      "name": "python3"
    },
    "language_info": {
      "name": "python"
    }
  },
  "nbformat": 4,
  "nbformat_minor": 0
}