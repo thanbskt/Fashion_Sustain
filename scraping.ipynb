{
  "cells": [
    {
      "cell_type": "markdown",
      "metadata": {
        "id": "view-in-github",
        "colab_type": "text"
      },
      "source": [
        "<a href=\"https://colab.research.google.com/github/thanbskt/Fashion_Sustain/blob/main/scraping.ipynb\" target=\"_parent\"><img src=\"https://colab.research.google.com/assets/colab-badge.svg\" alt=\"Open In Colab\"/></a>"
      ]
    },
    {
      "cell_type": "markdown",
      "source": [
        "#Imports and istallation of packages"
      ],
      "metadata": {
        "id": "2UUAH2vmT2tP"
      }
    },
    {
      "cell_type": "code",
      "source": [
        "!pip install beautifulsoup4\n",
        "!pip install unidecode"
      ],
      "metadata": {
        "id": "34eHho6uTzeI",
        "colab": {
          "base_uri": "https://localhost:8080/"
        },
        "outputId": "9418ab07-9ffb-4c71-d65e-eb234ae26bdd"
      },
      "execution_count": 1,
      "outputs": [
        {
          "output_type": "stream",
          "name": "stdout",
          "text": [
            "Looking in indexes: https://pypi.org/simple, https://us-python.pkg.dev/colab-wheels/public/simple/\n",
            "Requirement already satisfied: beautifulsoup4 in /usr/local/lib/python3.9/dist-packages (4.9.3)\n",
            "Requirement already satisfied: soupsieve>1.2 in /usr/local/lib/python3.9/dist-packages (from beautifulsoup4) (2.4)\n",
            "Looking in indexes: https://pypi.org/simple, https://us-python.pkg.dev/colab-wheels/public/simple/\n",
            "Requirement already satisfied: unidecode in /usr/local/lib/python3.9/dist-packages (1.3.6)\n"
          ]
        }
      ]
    },
    {
      "cell_type": "code",
      "source": [
        "from bs4 import BeautifulSoup\n",
        "import requests\n",
        "import pandas as pd\n",
        "from unidecode import unidecode\n",
        "import json\n",
        "import ast\n"
      ],
      "metadata": {
        "id": "hthUrE1kYemU"
      },
      "execution_count": 92,
      "outputs": []
    },
    {
      "cell_type": "markdown",
      "source": [
        "#Scraping from goodonyou"
      ],
      "metadata": {
        "id": "iw1-VgjxDvcC"
      }
    },
    {
      "cell_type": "code",
      "execution_count": null,
      "metadata": {
        "colab": {
          "background_save": true
        },
        "id": "JczhV9Nn3arU"
      },
      "outputs": [],
      "source": [
        "\n",
        "\n",
        "url = 'https://directory.goodonyou.eco/brand/infantium-victoria'\n",
        "response = requests.get(url)\n",
        "\n",
        "soup = BeautifulSoup(response.text, \"html.parser\")\n",
        "print\n",
        "h6_elements = soup.find_all('h6')\n",
        "for element in h6_elements:\n",
        "    if element.get('class') == ['StyledHeading-sc-1rdh4aw-0', 'jNSEQB', 'id__OverallRating-sc-12z6g46-7', 'cjSjNJ']:\n",
        "        overall_rating = element.text\n",
        "        overall_rating = overall_rating.split(\":\")[1].strip()\n",
        "        print(\"The overall rating is: \" + overall_rating)"
      ]
    },
    {
      "cell_type": "code",
      "execution_count": null,
      "metadata": {
        "colab": {
          "base_uri": "https://localhost:8080/"
        },
        "id": "1Ap6_I3lFMfp",
        "outputId": "0443a917-a574-4ee4-a869-2c556fd5f83c"
      },
      "outputs": [
        {
          "name": "stderr",
          "output_type": "stream",
          "text": [
            "DEBUG:urllib3.connectionpool:Starting new HTTPS connection (1): directory.goodonyou.eco:443\n",
            "2023-03-08 16:36:28 [urllib3.connectionpool] DEBUG: Starting new HTTPS connection (1): directory.goodonyou.eco:443\n",
            "DEBUG:urllib3.connectionpool:https://directory.goodonyou.eco:443 \"GET /brand/infantium-victoria HTTP/1.1\" 200 None\n",
            "2023-03-08 16:36:28 [urllib3.connectionpool] DEBUG: https://directory.goodonyou.eco:443 \"GET /brand/infantium-victoria HTTP/1.1\" 200 None\n"
          ]
        },
        {
          "name": "stdout",
          "output_type": "stream",
          "text": [
            "Great\n"
          ]
        }
      ],
      "source": [
        "from bs4 import BeautifulSoup\n",
        "import requests\n",
        "\n",
        "# Get the HTML of the page\n",
        "page = requests.get(\"https://directory.goodonyou.eco/brand/infantium-victoria\")\n",
        "soup = BeautifulSoup(page.content, 'html.parser')\n",
        "\n",
        "# Locate the elements using xpath\n",
        "xpath = '<h6 class=\"StyledHeading-sc-1rdh4aw-0 jNSEQB id__OverallRating-sc-12z6g46-7 cjSjNJ\"'\n",
        "\n",
        "# Find the text after 'Overall rating:'\n",
        "overall_rating = soup.find('h6', attrs={'class': 'StyledHeading-sc-1rdh4aw-0 jNSEQB id__OverallRating-sc-12z6g46-7 cjSjNJ'}).text.split('Overall rating: ')[1]\n",
        "\n",
        "# Print the result and save it in a variable\n",
        "print(overall_rating)\n",
        "rating = overall_rating"
      ]
    },
    {
      "cell_type": "markdown",
      "source": [
        "\n",
        "#scripe and save top category"
      ],
      "metadata": {
        "id": "jOi1HVfrKIOV"
      }
    },
    {
      "cell_type": "code",
      "source": [
        "from bs4 import BeautifulSoup\n",
        "import requests\n",
        "\n",
        "# Get the HTML of the page\n",
        "page = requests.get(\"https://directory.goodonyou.eco/categories/tops\")\n",
        "soup = BeautifulSoup(page.content, 'html.parser')"
      ],
      "metadata": {
        "id": "wp9JN22TD2oK"
      },
      "execution_count": null,
      "outputs": []
    },
    {
      "cell_type": "code",
      "source": [
        "data = soup.find_all('div',class_=\"ResponsiveGrid__GridItem-sc-1sitd6c-1 cYgZZO\")"
      ],
      "metadata": {
        "id": "x3-NmBXKENCr"
      },
      "execution_count": null,
      "outputs": []
    },
    {
      "cell_type": "code",
      "source": [
        "test2 = data[0].find('div',class_=\"StyledBox-sc-13pk1d4-0 gttMNt\").text"
      ],
      "metadata": {
        "id": "PvjpuD6nNLHH"
      },
      "execution_count": null,
      "outputs": []
    },
    {
      "cell_type": "code",
      "source": [
        "name =[]\n",
        "rated = []\n",
        "price = []\n",
        "for i in data:\n",
        "  information = i.find('div',class_=\"StyledBox-sc-13pk1d4-0 gttMNt\").text\n",
        "  information = information.replace('Price : ',\",\").replace('Rated : ',\",\").split(',')\n",
        "  name.append(information[0].strip())\n",
        "  price.append(information[1].strip())\n",
        "  rated.append(information[2].strip())"
      ],
      "metadata": {
        "id": "dY24C1V9QFN-"
      },
      "execution_count": null,
      "outputs": []
    },
    {
      "cell_type": "code",
      "source": [
        "import pandas as pd\n",
        "df = pd.DataFrame(list(zip(name, price,rated)),\n",
        "               columns =['Name', 'Price','Rated'])"
      ],
      "metadata": {
        "id": "izwcFBdVQFGE"
      },
      "execution_count": null,
      "outputs": []
    },
    {
      "cell_type": "code",
      "source": [
        "df"
      ],
      "metadata": {
        "id": "68XiLYdMNc4A"
      },
      "execution_count": null,
      "outputs": []
    },
    {
      "cell_type": "code",
      "source": [
        "df.to_excel(\"top_category.xlsx\")"
      ],
      "metadata": {
        "id": "FdLL-RNROQla"
      },
      "execution_count": null,
      "outputs": []
    },
    {
      "cell_type": "code",
      "source": [],
      "metadata": {
        "id": "4WpipYGiPXA-"
      },
      "execution_count": null,
      "outputs": []
    },
    {
      "cell_type": "markdown",
      "source": [
        "#scrapping detailed data from every brand"
      ],
      "metadata": {
        "id": "FP5bLhI4S3nR"
      }
    },
    {
      "cell_type": "code",
      "source": [
        "from google.colab import drive\n",
        "drive.mount('/content/drive')"
      ],
      "metadata": {
        "colab": {
          "base_uri": "https://localhost:8080/"
        },
        "id": "YC1burKLSo57",
        "outputId": "e4907b61-612d-489c-82e0-eb981ab12e51"
      },
      "execution_count": 3,
      "outputs": [
        {
          "output_type": "stream",
          "name": "stdout",
          "text": [
            "Drive already mounted at /content/drive; to attempt to forcibly remount, call drive.mount(\"/content/drive\", force_remount=True).\n"
          ]
        }
      ]
    },
    {
      "cell_type": "code",
      "source": [
        "exel_data = pd.read_excel('/content/drive/MyDrive/Work/AEGIS/Fashion_sustainability/goodforyou_top_scrab_data.xlsx')"
      ],
      "metadata": {
        "id": "t2KL56xoTnmJ"
      },
      "execution_count": 304,
      "outputs": []
    },
    {
      "cell_type": "code",
      "source": [
        "brands = list(exel_data['Brand'])"
      ],
      "metadata": {
        "id": "C4o5jZxUV7iF"
      },
      "execution_count": 305,
      "outputs": []
    },
    {
      "cell_type": "code",
      "source": [
        "brands"
      ],
      "metadata": {
        "id": "CLbXlfP24GrM"
      },
      "execution_count": null,
      "outputs": []
    },
    {
      "cell_type": "code",
      "source": [
        "brand_name = []\n",
        "rated = []\n",
        "location = []\n",
        "price = []\n",
        "ethicalRating = []\n",
        "ethicalLabel = []\n",
        "ethicalInfo = []\n",
        "labourRating = []\n",
        "labourLabel = []\n",
        "environmentRating = []\n",
        "environmentLabel = []\n",
        "animalRating = []\n",
        "animalLabel = []\n",
        "wheretobuy = []\n",
        "retailers = []\n",
        "ranges = []\n",
        "categories = []\n",
        "shipping = []\n",
        "values = []\n",
        "certifications = []"
      ],
      "metadata": {
        "id": "W6eIqEcYSl24"
      },
      "execution_count": 324,
      "outputs": []
    },
    {
      "cell_type": "code",
      "source": [
        "for brand in brands:\n",
        "  url = f'https://directory.goodonyou.eco/brand/{unidecode(brand.lower().replace(\"+\",\"and\").replace(\".\",\"\").replace(\" & \",\" and \").replace(\"&\",\" and \").replace(\"‘\",\"\").replace(\" \", \"-\"))}'\n",
        "  print(f'Scraping data for {brand} from {url}...')\n",
        "  response = requests.get(url)\n",
        "  soup = BeautifulSoup(response.content, 'html.parser')\n",
        "  data = soup.find('script', type = 'application/json')\n",
        "  data.string\n",
        "  data = json.loads(data.string)\n",
        "\n",
        "  brand_name.append(data['props']['pageProps']['brand']['name']) \n",
        "  rated.append(data['props']['pageProps']['brand']['ethicalRating'])\n",
        "  location.append(data['props']['pageProps']['brand']['location'][0]['name'])\n",
        "  price.append(data['props']['pageProps']['brand']['price'])\n",
        "\n",
        "  ethicalRating.append(data['props']['pageProps']['brand']['ethicalRating'])\n",
        "  ethicalLabel.append(data['props']['pageProps']['brand']['ethicalLabel'])\n",
        "  ethicalInfo.append(data['props']['pageProps']['brand']['ethicalInfo1'])\n",
        "\n",
        "  labourRating.append(data['props']['pageProps']['brand']['labourRating'])\n",
        "  labourLabel.append(data['props']['pageProps']['brand']['labourLabel'])\n",
        "\n",
        "  environmentRating.append(data['props']['pageProps']['brand']['environmentRating'])\n",
        "  environmentLabel.append(data['props']['pageProps']['brand']['environmentLabel'])\n",
        "\n",
        "  animalRating.append(data['props']['pageProps']['brand']['animalRating'])\n",
        "  animalLabel.append(data['props']['pageProps']['brand']['animalLabel'])\n",
        "\n",
        "\n",
        "\n",
        "  if soup.findAll(text=\"Retailers\") :\n",
        "    names = [d['name'] for d in data['props']['pageProps']['brand']['retailers']]\n",
        "    retailers.append(names)\n",
        "  else: \n",
        "    retailers.append(None)\n",
        "\n",
        "  if soup.findAll(text=\"WHERE TO BUY\") :\n",
        "    wheretobuy.append(data['props']['pageProps']['brand']['website'])\n",
        "  else: \n",
        "    wheretobuy.append(None)\n",
        "\n",
        "\n",
        "\n",
        "\n",
        "  if soup.findAll(text=\"RANGES\") :\n",
        "    ranges.append(data['props']['pageProps']['brand']['range'])\n",
        "  else: \n",
        "    ranges.append(None)\n",
        "\n",
        "  if soup.findAll(text=\"CATEGORIES\") :\n",
        "    brand_cat = [d['name'] for d in data['props']['pageProps']['brand']['categories']]\n",
        "    categories.append(brand_cat)\n",
        "  else: \n",
        "    categories.append(None)\n",
        "\n",
        "\n",
        "  if soup.findAll(text=\"SHIPPING\") :\n",
        "    brand_ship = [d['name'] for d in data['props']['pageProps']['brand']['shipsTo']]\n",
        "    shipping.append(brand_ship)\n",
        "  else: \n",
        "    shipping.append(None)\n",
        "\n",
        "\n",
        "\n",
        "  if soup.findAll(text=\"VALUES\") :\n",
        "    values .append(data['props']['pageProps']['brand']['values'])\n",
        "  else: \n",
        "    values.append(None)\n",
        "\n",
        "  if soup.findAll(text=\"CERTIFICATIONS\") :\n",
        "    certifications.append(data['props']['pageProps']['brand']['certifications'])\n",
        "  else: \n",
        "    certifications.append(None)\n"
      ],
      "metadata": {
        "colab": {
          "base_uri": "https://localhost:8080/"
        },
        "id": "61CetysG393T",
        "outputId": "619b4e62-fb7d-4ce4-9e67-02bb77b6d97d"
      },
      "execution_count": 326,
      "outputs": [
        {
          "output_type": "stream",
          "name": "stdout",
          "text": [
            "Scraping data for The Classic T-Shirt Company from https://directory.goodonyou.eco/brand/the-classic-t-shirt-company...\n",
            "Scraping data for OhSevenDays from https://directory.goodonyou.eco/brand/ohsevendays...\n",
            "Scraping data for Birdsong from https://directory.goodonyou.eco/brand/birdsong...\n",
            "Scraping data for ARMEDANGELS from https://directory.goodonyou.eco/brand/armedangels...\n",
            "Scraping data for LANIUS from https://directory.goodonyou.eco/brand/lanius...\n",
            "Scraping data for Whimsy + Row from https://directory.goodonyou.eco/brand/whimsy-and-row...\n",
            "Scraping data for No Nasties from https://directory.goodonyou.eco/brand/no-nasties...\n",
            "Scraping data for CARPASUS from https://directory.goodonyou.eco/brand/carpasus...\n",
            "Scraping data for ThokkThokk from https://directory.goodonyou.eco/brand/thokkthokk...\n",
            "Scraping data for Dedicated from https://directory.goodonyou.eco/brand/dedicated...\n",
            "Scraping data for ASKET from https://directory.goodonyou.eco/brand/asket...\n",
            "Scraping data for GRAMMAR from https://directory.goodonyou.eco/brand/grammar...\n",
            "Scraping data for A.BCH from https://directory.goodonyou.eco/brand/abch...\n",
            "Scraping data for Plant Faced Clothing from https://directory.goodonyou.eco/brand/plant-faced-clothing...\n",
            "Scraping data for MATE the Label from https://directory.goodonyou.eco/brand/mate-the-label...\n",
            "Scraping data for Fair Indigo from https://directory.goodonyou.eco/brand/fair-indigo...\n",
            "Scraping data for FRANC from https://directory.goodonyou.eco/brand/franc...\n",
            "Scraping data for Happy Earth Apparel from https://directory.goodonyou.eco/brand/happy-earth-apparel...\n",
            "Scraping data for Yes Friends from https://directory.goodonyou.eco/brand/yes-friends...\n",
            "Scraping data for ISTO. from https://directory.goodonyou.eco/brand/isto...\n",
            "Scraping data for Infantium Victoria from https://directory.goodonyou.eco/brand/infantium-victoria...\n",
            "Scraping data for Pop My Way from https://directory.goodonyou.eco/brand/pop-my-way...\n",
            "Scraping data for The Common Good Company from https://directory.goodonyou.eco/brand/the-common-good-company...\n",
            "Scraping data for The Good Tee from https://directory.goodonyou.eco/brand/the-good-tee...\n",
            "Scraping data for Colorful Standard from https://directory.goodonyou.eco/brand/colorful-standard...\n",
            "Scraping data for Toad&Co from https://directory.goodonyou.eco/brand/toad-and-co...\n",
            "Scraping data for Neu Nomads from https://directory.goodonyou.eco/brand/neu-nomads...\n",
            "Scraping data for Kotn from https://directory.goodonyou.eco/brand/kotn...\n",
            "Scraping data for Neem from https://directory.goodonyou.eco/brand/neem...\n",
            "Scraping data for REER3 from https://directory.goodonyou.eco/brand/reer3...\n",
            "Scraping data for WAWWA from https://directory.goodonyou.eco/brand/wawwa...\n",
            "Scraping data for KOHR from https://directory.goodonyou.eco/brand/kohr...\n",
            "Scraping data for Neococo from https://directory.goodonyou.eco/brand/neococo...\n",
            "Scraping data for JAN ‘N JUNE from https://directory.goodonyou.eco/brand/jan-n-june...\n",
            "Scraping data for Thunderpants NZ from https://directory.goodonyou.eco/brand/thunderpants-nz...\n",
            "Scraping data for Thunderpants USA from https://directory.goodonyou.eco/brand/thunderpants-usa...\n",
            "Scraping data for Outland Denim from https://directory.goodonyou.eco/brand/outland-denim...\n",
            "Scraping data for Yes Friends from https://directory.goodonyou.eco/brand/yes-friends...\n",
            "Scraping data for Infantium Victoria from https://directory.goodonyou.eco/brand/infantium-victoria...\n",
            "Scraping data for Monsoon Blooms from https://directory.goodonyou.eco/brand/monsoon-blooms...\n",
            "Scraping data for Sorella Organics from https://directory.goodonyou.eco/brand/sorella-organics...\n",
            "Scraping data for Mayamiko from https://directory.goodonyou.eco/brand/mayamiko...\n",
            "Scraping data for LA Relaxed from https://directory.goodonyou.eco/brand/la-relaxed...\n",
            "Scraping data for bleed from https://directory.goodonyou.eco/brand/bleed...\n",
            "Scraping data for ÉTICA from https://directory.goodonyou.eco/brand/etica...\n",
            "Scraping data for Unrobe from https://directory.goodonyou.eco/brand/unrobe...\n",
            "Scraping data for VATTER from https://directory.goodonyou.eco/brand/vatter...\n",
            "Scraping data for Dedicated from https://directory.goodonyou.eco/brand/dedicated...\n",
            "Scraping data for Teemill from https://directory.goodonyou.eco/brand/teemill...\n",
            "Scraping data for Bhumi from https://directory.goodonyou.eco/brand/bhumi...\n",
            "Scraping data for Sense Organics from https://directory.goodonyou.eco/brand/sense-organics...\n",
            "Scraping data for Where Does It Come From? from https://directory.goodonyou.eco/brand/where-does-it-come-from?...\n",
            "Scraping data for People Tree from https://directory.goodonyou.eco/brand/people-tree...\n",
            "Scraping data for éclipse from https://directory.goodonyou.eco/brand/eclipse...\n",
            "Scraping data for Etiko from https://directory.goodonyou.eco/brand/etiko...\n",
            "Scraping data for Iron Roots from https://directory.goodonyou.eco/brand/iron-roots...\n",
            "Scraping data for Sealand from https://directory.goodonyou.eco/brand/sealand...\n",
            "Scraping data for Fair Indigo from https://directory.goodonyou.eco/brand/fair-indigo...\n",
            "Scraping data for Tripulse from https://directory.goodonyou.eco/brand/tripulse...\n",
            "Scraping data for Harvest & Mill from https://directory.goodonyou.eco/brand/harvest-and-mill...\n",
            "Scraping data for Kalaurie from https://directory.goodonyou.eco/brand/kalaurie...\n",
            "Scraping data for Mila.Vert from https://directory.goodonyou.eco/brand/milavert...\n",
            "Scraping data for Rapanui from https://directory.goodonyou.eco/brand/rapanui...\n",
            "Scraping data for Jackalo from https://directory.goodonyou.eco/brand/jackalo...\n",
            "Scraping data for Dorsu from https://directory.goodonyou.eco/brand/dorsu...\n",
            "Scraping data for Noctu from https://directory.goodonyou.eco/brand/noctu...\n",
            "Scraping data for Mantis World from https://directory.goodonyou.eco/brand/mantis-world...\n",
            "Scraping data for The Standard Stitch from https://directory.goodonyou.eco/brand/the-standard-stitch...\n",
            "Scraping data for Ciganka - Artforms from Nature from https://directory.goodonyou.eco/brand/ciganka---artforms-from-nature...\n",
            "Scraping data for Loop Swim from https://directory.goodonyou.eco/brand/loop-swim...\n",
            "Scraping data for Dharma Bums from https://directory.goodonyou.eco/brand/dharma-bums...\n",
            "Scraping data for Nube from https://directory.goodonyou.eco/brand/nube...\n",
            "Scraping data for The R Collective from https://directory.goodonyou.eco/brand/the-r-collective...\n",
            "Scraping data for Bon Label from https://directory.goodonyou.eco/brand/bon-label...\n"
          ]
        }
      ]
    },
    {
      "cell_type": "code",
      "source": [
        "\n"
      ],
      "metadata": {
        "id": "sMtSM0_S59-3"
      },
      "execution_count": 199,
      "outputs": []
    },
    {
      "cell_type": "code",
      "source": [],
      "metadata": {
        "id": "S2OebmeOFTuU"
      },
      "execution_count": 181,
      "outputs": []
    },
    {
      "cell_type": "code",
      "source": [
        "list_names = ['name','rated', 'location', 'price', 'ethicalRating', 'ethicalLabel', 'ethicalInfo', 'labourRating', 'labourLabel', 'environmentRating', 'environmentLabel', 'animalRating', 'animalLabel', 'wheretobuy', 'retailers', 'range', 'categories', 'shipping', 'values', 'certifications']"
      ],
      "metadata": {
        "id": "vEk5u705OR8t"
      },
      "execution_count": 328,
      "outputs": []
    },
    {
      "cell_type": "code",
      "source": [
        "all_data_in_lists = brand_name,rated, location, price, ethicalRating, ethicalLabel, ethicalInfo, labourRating, labourLabel, environmentRating, environmentLabel, animalRating, animalLabel, wheretobuy, retailers, range, categories, shipping, values, certifications"
      ],
      "metadata": {
        "id": "B5LmEVYGZBTH"
      },
      "execution_count": 329,
      "outputs": []
    },
    {
      "cell_type": "code",
      "source": [
        "df = pd.DataFrame({list_names[0]: brand_name, \n",
        "                   list_names[1]: rated,\n",
        "                   list_names[2]: location,\n",
        "                   list_names[3]: price,\n",
        "                   list_names[4]: ethicalRating,\n",
        "                   list_names[5]: ethicalLabel,\n",
        "                   list_names[6]: ethicalInfo,\n",
        "                   list_names[7]: labourRating,\n",
        "                   list_names[8]: labourLabel,\n",
        "                   list_names[9]: environmentRating,\n",
        "                   list_names[10]: environmentLabel,\n",
        "                   list_names[11]: animalRating,\n",
        "                   list_names[12]: animalLabel,\n",
        "                   list_names[13]: wheretobuy,\n",
        "                   list_names[14]: retailers,\n",
        "                   list_names[15]: ranges,\n",
        "                   list_names[16]: categories,\n",
        "                   list_names[17]: shipping,\n",
        "                   list_names[18]: values,\n",
        "                   list_names[19]: certifications\n",
        "                   })"
      ],
      "metadata": {
        "id": "h-dAakjBbhEF"
      },
      "execution_count": 330,
      "outputs": []
    },
    {
      "cell_type": "code",
      "source": [
        "df"
      ],
      "metadata": {
        "colab": {
          "base_uri": "https://localhost:8080/",
          "height": 1000
        },
        "id": "DfBGkPycdl7M",
        "outputId": "b50d94ce-2ff3-4af4-c480-1ce492cfe32f"
      },
      "execution_count": 331,
      "outputs": [
        {
          "output_type": "execute_result",
          "data": {
            "text/plain": [
              "                           name  rated        location  price  ethicalRating  \\\n",
              "0   The Classic T-Shirt Company      5   United States      3              5   \n",
              "1                   OhSevenDays      4          Turkey      2              4   \n",
              "2                      Birdsong      4  United Kingdom      3              4   \n",
              "3                   ARMEDANGELS      5         Germany      2              5   \n",
              "4                        LANIUS      4         Germany      2              4   \n",
              "..                          ...    ...             ...    ...            ...   \n",
              "69                    Loop Swim      5           China      2              5   \n",
              "70                  Dharma Bums      5       Australia      3              5   \n",
              "71                         Nube      5   United States      2              5   \n",
              "72             The R Collective      5       Hong Kong      2              5   \n",
              "73                    Bon Label      5       Australia      2              5   \n",
              "\n",
              "   ethicalLabel                                        ethicalInfo  \\\n",
              "0         Great  The Classic T-Shirt Company provides luxury wa...   \n",
              "1          Good  OhSevenDays is a womenswear label based in Ist...   \n",
              "2          Good  Birdsong is a UK-based fashion brand that crea...   \n",
              "3         Great  Based in Germany, ARMEDANGELS proves that they...   \n",
              "4          Good  LANIUS is a German brand offering feminine fas...   \n",
              "..          ...                                                ...   \n",
              "69        Great  Loop Swim is a clothing brand that transforms ...   \n",
              "70        Great  Dharma Bums is an ethical yoga and activewear ...   \n",
              "71        Great  Nube makes activewear inspired by the environm...   \n",
              "72        Great  The R Collective is a Hong-Kong based women's ...   \n",
              "73        Great  Bon Label is an Australian clothing brand with...   \n",
              "\n",
              "    labourRating   labourLabel  environmentRating environmentLabel  \\\n",
              "0          18.75         Great              20.00            Great   \n",
              "1          11.43  It's a start              15.85             Good   \n",
              "2          18.43         Great              18.37            Great   \n",
              "3          16.71          Good              20.00            Great   \n",
              "4          14.43  It's a start              18.87            Great   \n",
              "..           ...           ...                ...              ...   \n",
              "69         18.05         Great              18.96            Great   \n",
              "70         18.00         Great              18.53            Great   \n",
              "71         17.00          Good              20.00            Great   \n",
              "72         18.50         Great              20.00            Great   \n",
              "73         18.50         Great              20.00            Great   \n",
              "\n",
              "    animalRating      animalLabel  \\\n",
              "0           0.02   Not applicable   \n",
              "1          17.80             Good   \n",
              "2          13.60     It's a start   \n",
              "3          17.99             Good   \n",
              "4           9.60  Not good enough   \n",
              "..           ...              ...   \n",
              "69          0.01   Not applicable   \n",
              "70         19.00            Great   \n",
              "71          0.01   Not applicable   \n",
              "72         17.00             Good   \n",
              "73         17.00             Good   \n",
              "\n",
              "                                           wheretobuy  \\\n",
              "0   http://tracking.goodonyou.eco/aff_c?&offer_id=...   \n",
              "1   https://ohsevendays.com?utm_source=GoodOnYou%2...   \n",
              "2   https://birdsong.london/?oid=57&affid=1&source...   \n",
              "3   https://www.armedangels.com/de-en?oid=129&affi...   \n",
              "4   https://www.lanius.com/?oid=95&affid=1&source_...   \n",
              "..                                                ...   \n",
              "69  https://loopswim.com/?utm_source=GoodOnYou%20A...   \n",
              "70  https://www.dharmabums.com.au/?utm_source=Good...   \n",
              "71  https://nubeusa.com/?oid=114&affid=1&source_id...   \n",
              "72  https://thercollective.com?oid=137&affid=1&sou...   \n",
              "73  https://bonlabel.com.au/?utm_source=GoodOnYou%...   \n",
              "\n",
              "                                            retailers range  \\\n",
              "0   [The Classic T-Shirt Company - Offer, The Clas...  None   \n",
              "1                     [Freespiritbrands, OhSevenDays]  None   \n",
              "2                                                None  None   \n",
              "3      [ARMEDANGELS, Earthkind, Veneka (US Shipping)]  None   \n",
              "4                                                None  None   \n",
              "..                                                ...   ...   \n",
              "69                                               None  None   \n",
              "70                                               None  None   \n",
              "71                                   [Nube, Cerqular]  None   \n",
              "72                                               None  None   \n",
              "73                                               None  None   \n",
              "\n",
              "                                           categories         shipping  \\\n",
              "0                                [tshirts, plus size]      [Worldwide]   \n",
              "1   [Shirts, Sweaters, Dresses, Hoodies & Sweatshi...      [Worldwide]   \n",
              "2   [Skirts, Dresses, Pants, Jackets & Blazers, Ha...      [Worldwide]   \n",
              "3   [Denim, Sweaters, Polos, Hoodies & Sweatshirts...      [Worldwide]   \n",
              "4   [Shirts, Tops & Blouses, T-Shirts, Pants, Deni...      [Worldwide]   \n",
              "..                                                ...              ...   \n",
              "69  [Swimwear, Shorts, Underwear, Tops & Blouses, ...      [Worldwide]   \n",
              "70  [Activewear, Sportswear, Tops & Blouses, T-Shi...      [Worldwide]   \n",
              "71  [Sweaters, Eyewear, Pants, Hoodies & Sweatshir...  [United States]   \n",
              "72  [Shirts, Denim, Dresses, Jackets & Blazers, To...      [Worldwide]   \n",
              "73           [Sweaters, T-Shirts, Stockings & Tights]      [Worldwide]   \n",
              "\n",
              "                                values  \\\n",
              "0                                 None   \n",
              "1                           [recycled]   \n",
              "2   [organic, give-back, eco-friendly]   \n",
              "3                 [organic, fairtrade]   \n",
              "4              [organic, eco-friendly]   \n",
              "..                                 ...   \n",
              "69                                None   \n",
              "70                             [vegan]   \n",
              "71                          [recycled]   \n",
              "72                          [recycled]   \n",
              "73  [organic, eco-friendly, fairtrade]   \n",
              "\n",
              "                              certifications  \n",
              "0                                       None  \n",
              "1                                [gots, grs]  \n",
              "2                                     [gots]  \n",
              "3   [gots, grs, peta, fairtrade-c, fairwear]  \n",
              "4                [gots, grs, peta, fairwear]  \n",
              "..                                       ...  \n",
              "69                                      None  \n",
              "70                      [oeko-tex, bluesign]  \n",
              "71                                      None  \n",
              "72                                      None  \n",
              "73             [gots, oeko-tex, fairtrade-c]  \n",
              "\n",
              "[74 rows x 20 columns]"
            ],
            "text/html": [
              "\n",
              "  <div id=\"df-7e71d0d9-fe31-4b63-b4a4-83e5adfb5ca6\">\n",
              "    <div class=\"colab-df-container\">\n",
              "      <div>\n",
              "<style scoped>\n",
              "    .dataframe tbody tr th:only-of-type {\n",
              "        vertical-align: middle;\n",
              "    }\n",
              "\n",
              "    .dataframe tbody tr th {\n",
              "        vertical-align: top;\n",
              "    }\n",
              "\n",
              "    .dataframe thead th {\n",
              "        text-align: right;\n",
              "    }\n",
              "</style>\n",
              "<table border=\"1\" class=\"dataframe\">\n",
              "  <thead>\n",
              "    <tr style=\"text-align: right;\">\n",
              "      <th></th>\n",
              "      <th>name</th>\n",
              "      <th>rated</th>\n",
              "      <th>location</th>\n",
              "      <th>price</th>\n",
              "      <th>ethicalRating</th>\n",
              "      <th>ethicalLabel</th>\n",
              "      <th>ethicalInfo</th>\n",
              "      <th>labourRating</th>\n",
              "      <th>labourLabel</th>\n",
              "      <th>environmentRating</th>\n",
              "      <th>environmentLabel</th>\n",
              "      <th>animalRating</th>\n",
              "      <th>animalLabel</th>\n",
              "      <th>wheretobuy</th>\n",
              "      <th>retailers</th>\n",
              "      <th>range</th>\n",
              "      <th>categories</th>\n",
              "      <th>shipping</th>\n",
              "      <th>values</th>\n",
              "      <th>certifications</th>\n",
              "    </tr>\n",
              "  </thead>\n",
              "  <tbody>\n",
              "    <tr>\n",
              "      <th>0</th>\n",
              "      <td>The Classic T-Shirt Company</td>\n",
              "      <td>5</td>\n",
              "      <td>United States</td>\n",
              "      <td>3</td>\n",
              "      <td>5</td>\n",
              "      <td>Great</td>\n",
              "      <td>The Classic T-Shirt Company provides luxury wa...</td>\n",
              "      <td>18.75</td>\n",
              "      <td>Great</td>\n",
              "      <td>20.00</td>\n",
              "      <td>Great</td>\n",
              "      <td>0.02</td>\n",
              "      <td>Not applicable</td>\n",
              "      <td>http://tracking.goodonyou.eco/aff_c?&amp;offer_id=...</td>\n",
              "      <td>[The Classic T-Shirt Company - Offer, The Clas...</td>\n",
              "      <td>None</td>\n",
              "      <td>[tshirts, plus size]</td>\n",
              "      <td>[Worldwide]</td>\n",
              "      <td>None</td>\n",
              "      <td>None</td>\n",
              "    </tr>\n",
              "    <tr>\n",
              "      <th>1</th>\n",
              "      <td>OhSevenDays</td>\n",
              "      <td>4</td>\n",
              "      <td>Turkey</td>\n",
              "      <td>2</td>\n",
              "      <td>4</td>\n",
              "      <td>Good</td>\n",
              "      <td>OhSevenDays is a womenswear label based in Ist...</td>\n",
              "      <td>11.43</td>\n",
              "      <td>It's a start</td>\n",
              "      <td>15.85</td>\n",
              "      <td>Good</td>\n",
              "      <td>17.80</td>\n",
              "      <td>Good</td>\n",
              "      <td>https://ohsevendays.com?utm_source=GoodOnYou%2...</td>\n",
              "      <td>[Freespiritbrands, OhSevenDays]</td>\n",
              "      <td>None</td>\n",
              "      <td>[Shirts, Sweaters, Dresses, Hoodies &amp; Sweatshi...</td>\n",
              "      <td>[Worldwide]</td>\n",
              "      <td>[recycled]</td>\n",
              "      <td>[gots, grs]</td>\n",
              "    </tr>\n",
              "    <tr>\n",
              "      <th>2</th>\n",
              "      <td>Birdsong</td>\n",
              "      <td>4</td>\n",
              "      <td>United Kingdom</td>\n",
              "      <td>3</td>\n",
              "      <td>4</td>\n",
              "      <td>Good</td>\n",
              "      <td>Birdsong is a UK-based fashion brand that crea...</td>\n",
              "      <td>18.43</td>\n",
              "      <td>Great</td>\n",
              "      <td>18.37</td>\n",
              "      <td>Great</td>\n",
              "      <td>13.60</td>\n",
              "      <td>It's a start</td>\n",
              "      <td>https://birdsong.london/?oid=57&amp;affid=1&amp;source...</td>\n",
              "      <td>None</td>\n",
              "      <td>None</td>\n",
              "      <td>[Skirts, Dresses, Pants, Jackets &amp; Blazers, Ha...</td>\n",
              "      <td>[Worldwide]</td>\n",
              "      <td>[organic, give-back, eco-friendly]</td>\n",
              "      <td>[gots]</td>\n",
              "    </tr>\n",
              "    <tr>\n",
              "      <th>3</th>\n",
              "      <td>ARMEDANGELS</td>\n",
              "      <td>5</td>\n",
              "      <td>Germany</td>\n",
              "      <td>2</td>\n",
              "      <td>5</td>\n",
              "      <td>Great</td>\n",
              "      <td>Based in Germany, ARMEDANGELS proves that they...</td>\n",
              "      <td>16.71</td>\n",
              "      <td>Good</td>\n",
              "      <td>20.00</td>\n",
              "      <td>Great</td>\n",
              "      <td>17.99</td>\n",
              "      <td>Good</td>\n",
              "      <td>https://www.armedangels.com/de-en?oid=129&amp;affi...</td>\n",
              "      <td>[ARMEDANGELS, Earthkind, Veneka (US Shipping)]</td>\n",
              "      <td>None</td>\n",
              "      <td>[Denim, Sweaters, Polos, Hoodies &amp; Sweatshirts...</td>\n",
              "      <td>[Worldwide]</td>\n",
              "      <td>[organic, fairtrade]</td>\n",
              "      <td>[gots, grs, peta, fairtrade-c, fairwear]</td>\n",
              "    </tr>\n",
              "    <tr>\n",
              "      <th>4</th>\n",
              "      <td>LANIUS</td>\n",
              "      <td>4</td>\n",
              "      <td>Germany</td>\n",
              "      <td>2</td>\n",
              "      <td>4</td>\n",
              "      <td>Good</td>\n",
              "      <td>LANIUS is a German brand offering feminine fas...</td>\n",
              "      <td>14.43</td>\n",
              "      <td>It's a start</td>\n",
              "      <td>18.87</td>\n",
              "      <td>Great</td>\n",
              "      <td>9.60</td>\n",
              "      <td>Not good enough</td>\n",
              "      <td>https://www.lanius.com/?oid=95&amp;affid=1&amp;source_...</td>\n",
              "      <td>None</td>\n",
              "      <td>None</td>\n",
              "      <td>[Shirts, Tops &amp; Blouses, T-Shirts, Pants, Deni...</td>\n",
              "      <td>[Worldwide]</td>\n",
              "      <td>[organic, eco-friendly]</td>\n",
              "      <td>[gots, grs, peta, fairwear]</td>\n",
              "    </tr>\n",
              "    <tr>\n",
              "      <th>...</th>\n",
              "      <td>...</td>\n",
              "      <td>...</td>\n",
              "      <td>...</td>\n",
              "      <td>...</td>\n",
              "      <td>...</td>\n",
              "      <td>...</td>\n",
              "      <td>...</td>\n",
              "      <td>...</td>\n",
              "      <td>...</td>\n",
              "      <td>...</td>\n",
              "      <td>...</td>\n",
              "      <td>...</td>\n",
              "      <td>...</td>\n",
              "      <td>...</td>\n",
              "      <td>...</td>\n",
              "      <td>...</td>\n",
              "      <td>...</td>\n",
              "      <td>...</td>\n",
              "      <td>...</td>\n",
              "      <td>...</td>\n",
              "    </tr>\n",
              "    <tr>\n",
              "      <th>69</th>\n",
              "      <td>Loop Swim</td>\n",
              "      <td>5</td>\n",
              "      <td>China</td>\n",
              "      <td>2</td>\n",
              "      <td>5</td>\n",
              "      <td>Great</td>\n",
              "      <td>Loop Swim is a clothing brand that transforms ...</td>\n",
              "      <td>18.05</td>\n",
              "      <td>Great</td>\n",
              "      <td>18.96</td>\n",
              "      <td>Great</td>\n",
              "      <td>0.01</td>\n",
              "      <td>Not applicable</td>\n",
              "      <td>https://loopswim.com/?utm_source=GoodOnYou%20A...</td>\n",
              "      <td>None</td>\n",
              "      <td>None</td>\n",
              "      <td>[Swimwear, Shorts, Underwear, Tops &amp; Blouses, ...</td>\n",
              "      <td>[Worldwide]</td>\n",
              "      <td>None</td>\n",
              "      <td>None</td>\n",
              "    </tr>\n",
              "    <tr>\n",
              "      <th>70</th>\n",
              "      <td>Dharma Bums</td>\n",
              "      <td>5</td>\n",
              "      <td>Australia</td>\n",
              "      <td>3</td>\n",
              "      <td>5</td>\n",
              "      <td>Great</td>\n",
              "      <td>Dharma Bums is an ethical yoga and activewear ...</td>\n",
              "      <td>18.00</td>\n",
              "      <td>Great</td>\n",
              "      <td>18.53</td>\n",
              "      <td>Great</td>\n",
              "      <td>19.00</td>\n",
              "      <td>Great</td>\n",
              "      <td>https://www.dharmabums.com.au/?utm_source=Good...</td>\n",
              "      <td>None</td>\n",
              "      <td>None</td>\n",
              "      <td>[Activewear, Sportswear, Tops &amp; Blouses, T-Shi...</td>\n",
              "      <td>[Worldwide]</td>\n",
              "      <td>[vegan]</td>\n",
              "      <td>[oeko-tex, bluesign]</td>\n",
              "    </tr>\n",
              "    <tr>\n",
              "      <th>71</th>\n",
              "      <td>Nube</td>\n",
              "      <td>5</td>\n",
              "      <td>United States</td>\n",
              "      <td>2</td>\n",
              "      <td>5</td>\n",
              "      <td>Great</td>\n",
              "      <td>Nube makes activewear inspired by the environm...</td>\n",
              "      <td>17.00</td>\n",
              "      <td>Good</td>\n",
              "      <td>20.00</td>\n",
              "      <td>Great</td>\n",
              "      <td>0.01</td>\n",
              "      <td>Not applicable</td>\n",
              "      <td>https://nubeusa.com/?oid=114&amp;affid=1&amp;source_id...</td>\n",
              "      <td>[Nube, Cerqular]</td>\n",
              "      <td>None</td>\n",
              "      <td>[Sweaters, Eyewear, Pants, Hoodies &amp; Sweatshir...</td>\n",
              "      <td>[United States]</td>\n",
              "      <td>[recycled]</td>\n",
              "      <td>None</td>\n",
              "    </tr>\n",
              "    <tr>\n",
              "      <th>72</th>\n",
              "      <td>The R Collective</td>\n",
              "      <td>5</td>\n",
              "      <td>Hong Kong</td>\n",
              "      <td>2</td>\n",
              "      <td>5</td>\n",
              "      <td>Great</td>\n",
              "      <td>The R Collective is a Hong-Kong based women's ...</td>\n",
              "      <td>18.50</td>\n",
              "      <td>Great</td>\n",
              "      <td>20.00</td>\n",
              "      <td>Great</td>\n",
              "      <td>17.00</td>\n",
              "      <td>Good</td>\n",
              "      <td>https://thercollective.com?oid=137&amp;affid=1&amp;sou...</td>\n",
              "      <td>None</td>\n",
              "      <td>None</td>\n",
              "      <td>[Shirts, Denim, Dresses, Jackets &amp; Blazers, To...</td>\n",
              "      <td>[Worldwide]</td>\n",
              "      <td>[recycled]</td>\n",
              "      <td>None</td>\n",
              "    </tr>\n",
              "    <tr>\n",
              "      <th>73</th>\n",
              "      <td>Bon Label</td>\n",
              "      <td>5</td>\n",
              "      <td>Australia</td>\n",
              "      <td>2</td>\n",
              "      <td>5</td>\n",
              "      <td>Great</td>\n",
              "      <td>Bon Label is an Australian clothing brand with...</td>\n",
              "      <td>18.50</td>\n",
              "      <td>Great</td>\n",
              "      <td>20.00</td>\n",
              "      <td>Great</td>\n",
              "      <td>17.00</td>\n",
              "      <td>Good</td>\n",
              "      <td>https://bonlabel.com.au/?utm_source=GoodOnYou%...</td>\n",
              "      <td>None</td>\n",
              "      <td>None</td>\n",
              "      <td>[Sweaters, T-Shirts, Stockings &amp; Tights]</td>\n",
              "      <td>[Worldwide]</td>\n",
              "      <td>[organic, eco-friendly, fairtrade]</td>\n",
              "      <td>[gots, oeko-tex, fairtrade-c]</td>\n",
              "    </tr>\n",
              "  </tbody>\n",
              "</table>\n",
              "<p>74 rows × 20 columns</p>\n",
              "</div>\n",
              "      <button class=\"colab-df-convert\" onclick=\"convertToInteractive('df-7e71d0d9-fe31-4b63-b4a4-83e5adfb5ca6')\"\n",
              "              title=\"Convert this dataframe to an interactive table.\"\n",
              "              style=\"display:none;\">\n",
              "        \n",
              "  <svg xmlns=\"http://www.w3.org/2000/svg\" height=\"24px\"viewBox=\"0 0 24 24\"\n",
              "       width=\"24px\">\n",
              "    <path d=\"M0 0h24v24H0V0z\" fill=\"none\"/>\n",
              "    <path d=\"M18.56 5.44l.94 2.06.94-2.06 2.06-.94-2.06-.94-.94-2.06-.94 2.06-2.06.94zm-11 1L8.5 8.5l.94-2.06 2.06-.94-2.06-.94L8.5 2.5l-.94 2.06-2.06.94zm10 10l.94 2.06.94-2.06 2.06-.94-2.06-.94-.94-2.06-.94 2.06-2.06.94z\"/><path d=\"M17.41 7.96l-1.37-1.37c-.4-.4-.92-.59-1.43-.59-.52 0-1.04.2-1.43.59L10.3 9.45l-7.72 7.72c-.78.78-.78 2.05 0 2.83L4 21.41c.39.39.9.59 1.41.59.51 0 1.02-.2 1.41-.59l7.78-7.78 2.81-2.81c.8-.78.8-2.07 0-2.86zM5.41 20L4 18.59l7.72-7.72 1.47 1.35L5.41 20z\"/>\n",
              "  </svg>\n",
              "      </button>\n",
              "      \n",
              "  <style>\n",
              "    .colab-df-container {\n",
              "      display:flex;\n",
              "      flex-wrap:wrap;\n",
              "      gap: 12px;\n",
              "    }\n",
              "\n",
              "    .colab-df-convert {\n",
              "      background-color: #E8F0FE;\n",
              "      border: none;\n",
              "      border-radius: 50%;\n",
              "      cursor: pointer;\n",
              "      display: none;\n",
              "      fill: #1967D2;\n",
              "      height: 32px;\n",
              "      padding: 0 0 0 0;\n",
              "      width: 32px;\n",
              "    }\n",
              "\n",
              "    .colab-df-convert:hover {\n",
              "      background-color: #E2EBFA;\n",
              "      box-shadow: 0px 1px 2px rgba(60, 64, 67, 0.3), 0px 1px 3px 1px rgba(60, 64, 67, 0.15);\n",
              "      fill: #174EA6;\n",
              "    }\n",
              "\n",
              "    [theme=dark] .colab-df-convert {\n",
              "      background-color: #3B4455;\n",
              "      fill: #D2E3FC;\n",
              "    }\n",
              "\n",
              "    [theme=dark] .colab-df-convert:hover {\n",
              "      background-color: #434B5C;\n",
              "      box-shadow: 0px 1px 3px 1px rgba(0, 0, 0, 0.15);\n",
              "      filter: drop-shadow(0px 1px 2px rgba(0, 0, 0, 0.3));\n",
              "      fill: #FFFFFF;\n",
              "    }\n",
              "  </style>\n",
              "\n",
              "      <script>\n",
              "        const buttonEl =\n",
              "          document.querySelector('#df-7e71d0d9-fe31-4b63-b4a4-83e5adfb5ca6 button.colab-df-convert');\n",
              "        buttonEl.style.display =\n",
              "          google.colab.kernel.accessAllowed ? 'block' : 'none';\n",
              "\n",
              "        async function convertToInteractive(key) {\n",
              "          const element = document.querySelector('#df-7e71d0d9-fe31-4b63-b4a4-83e5adfb5ca6');\n",
              "          const dataTable =\n",
              "            await google.colab.kernel.invokeFunction('convertToInteractive',\n",
              "                                                     [key], {});\n",
              "          if (!dataTable) return;\n",
              "\n",
              "          const docLinkHtml = 'Like what you see? Visit the ' +\n",
              "            '<a target=\"_blank\" href=https://colab.research.google.com/notebooks/data_table.ipynb>data table notebook</a>'\n",
              "            + ' to learn more about interactive tables.';\n",
              "          element.innerHTML = '';\n",
              "          dataTable['output_type'] = 'display_data';\n",
              "          await google.colab.output.renderOutput(dataTable, element);\n",
              "          const docLink = document.createElement('div');\n",
              "          docLink.innerHTML = docLinkHtml;\n",
              "          element.appendChild(docLink);\n",
              "        }\n",
              "      </script>\n",
              "    </div>\n",
              "  </div>\n",
              "  "
            ]
          },
          "metadata": {},
          "execution_count": 331
        }
      ]
    },
    {
      "cell_type": "code",
      "source": [],
      "metadata": {
        "id": "VtZgjU6JvFm_"
      },
      "execution_count": null,
      "outputs": []
    },
    {
      "cell_type": "code",
      "source": [
        "df.to_excel(\"top_with_details.xlsx\")"
      ],
      "metadata": {
        "id": "WGNxnZvpjr74"
      },
      "execution_count": 332,
      "outputs": []
    },
    {
      "cell_type": "code",
      "source": [],
      "metadata": {
        "id": "10VmyeXNjruS"
      },
      "execution_count": null,
      "outputs": []
    }
  ],
  "metadata": {
    "colab": {
      "provenance": [],
      "authorship_tag": "ABX9TyPjaSIhOED1tg0vyQxD1+dg",
      "include_colab_link": true
    },
    "kernelspec": {
      "display_name": "Python 3",
      "name": "python3"
    },
    "language_info": {
      "name": "python"
    }
  },
  "nbformat": 4,
  "nbformat_minor": 0
}